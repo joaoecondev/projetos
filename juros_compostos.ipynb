{
 "cells": [
  {
   "cell_type": "code",
   "execution_count": null,
   "metadata": {},
   "outputs": [],
   "source": [
    "print('*** Calculadora de juros compostos profissional - por João Bezerra ***')\n",
    "\n",
    "def valorFuturo(r, i, n, c):\n",
    "    s = r * ((((1 + i) ** n) - 1) / i)\n",
    "    m = (c * (1 + i) ** n)\n",
    "    vf = m + s\n",
    "    print (\"No final do período você terá R$ \" + \"%.2f\" % vf)\n",
    "\n",
    "erro = 'Digite apenas valores numéricos.'\n",
    "while True == True:\n",
    "    c = input('Qual o valor de investimento inicial? ')\n",
    "    try:\n",
    "        float(c)\n",
    "        c = float(c)\n",
    "        if c >= 0:\n",
    "            break\n",
    "        else:\n",
    "            print('O investimento inicial não pode ser negativo.')\n",
    "    except:\n",
    "        print(erro)\n",
    "\n",
    "while True == True:\n",
    "    r = input('Qual o valor do aporte mensal? ')\n",
    "    try:\n",
    "        float(r)\n",
    "        r = float(r)\n",
    "        if r >= 0:\n",
    "            break\n",
    "        else:\n",
    "            print('O valor do aporte mensal não pode ser negativo.')\n",
    "    except:\n",
    "        print(erro)\n",
    "\n",
    "while True == True:\n",
    "    i = input('Qual a taxa de juros (%) mensal? ')\n",
    "    try:\n",
    "        float(i)\n",
    "        i = float(i)\n",
    "        i = i / 100\n",
    "        break\n",
    "    except:\n",
    "        print(erro)\n",
    "        \n",
    "while True == True:\n",
    "    n = input('Qual a quantidade de meses de investimento? ')\n",
    "    try:\n",
    "        float(n)\n",
    "        n = float(n)\n",
    "        if n >= 0:\n",
    "            break\n",
    "        else:\n",
    "            print('A quantidade de meses não pode ser negativa.')\n",
    "    except:\n",
    "        print(erro)\n",
    "        \n",
    "valorFuturo(r, i, n, c)\n"
   ]
  }
 ],
 "metadata": {
  "kernelspec": {
   "display_name": "Python 3",
   "language": "python",
   "name": "python3"
  },
  "language_info": {
   "codemirror_mode": {
    "name": "ipython",
    "version": 3
   },
   "file_extension": ".py",
   "mimetype": "text/x-python",
   "name": "python",
   "nbconvert_exporter": "python",
   "pygments_lexer": "ipython3",
   "version": "3.8.3"
  }
 },
 "nbformat": 4,
 "nbformat_minor": 4
}
